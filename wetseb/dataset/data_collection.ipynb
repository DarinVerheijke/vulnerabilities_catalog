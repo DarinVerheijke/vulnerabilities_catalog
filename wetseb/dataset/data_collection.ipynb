{
 "cells": [
  {
   "cell_type": "code",
   "execution_count": null,
   "metadata": {
    "collapsed": true,
    "pycharm": {
     "name": "#%%\n"
    }
   },
   "outputs": [],
   "source": [
    "import csv\n",
    "import os\n",
    "import glob\n",
    "import pandas as pd\n",
    "import tqdm as tqdm\n",
    "import requests\n",
    "from more_itertools import unique_everseen"
   ]
  },
  {
   "cell_type": "code",
   "execution_count": null,
   "outputs": [],
   "source": [
    "# Concatenate all etherscan csv files\n",
    "# Note: The header in your etherscan csv file might need to be adjusted (or removed)\n",
    "extension = 'csv'\n",
    "all_filenames = [i for i in glob.glob('*.{}'.format(extension))]\n",
    "if not os.path.exists(\"combined_csv.csv\"):\n",
    "    combined_csv = pd.concat([pd.read_csv(f) for f in all_filenames])\n",
    "    combined_csv.to_csv(\"combined_csv.csv\", index=False, encoding='utf-8-sig')"
   ],
   "metadata": {
    "collapsed": false,
    "pycharm": {
     "name": "#%%\n"
    }
   }
  },
  {
   "cell_type": "code",
   "execution_count": null,
   "outputs": [],
   "source": [
    "# Remove duplicates in the combined csv file\n",
    "with open(\"combined_csv.csv\",'r') as f, open(\"combined_unique.csv\", 'w') as out_file:\n",
    "    out_file.writelines(unique_everseen(f))"
   ],
   "metadata": {
    "collapsed": false,
    "pycharm": {
     "name": "#%%\n"
    }
   }
  },
  {
   "cell_type": "code",
   "execution_count": null,
   "outputs": [],
   "source": [
    "data = pd.read_csv(\"combined_unique.csv\")"
   ],
   "metadata": {
    "collapsed": false,
    "pycharm": {
     "name": "#%%\n"
    }
   }
  },
  {
   "cell_type": "code",
   "execution_count": null,
   "outputs": [],
   "source": [
    "# Configure your own api key\n",
    "apikey = 'Your_own_api_key'"
   ],
   "metadata": {
    "collapsed": false,
    "pycharm": {
     "name": "#%%\n"
    }
   }
  },
  {
   "cell_type": "code",
   "execution_count": null,
   "outputs": [],
   "source": [
    "# Data we need from our api call:\n",
    "# - Source code\n",
    "# - Solidity version\n",
    "# - Date of contract creation\n",
    "# - Lines of code (LOC)\n",
    "\n",
    "def api_call(row, data=data):\n",
    "    val = \"\"\n",
    "    version = \"\"\n",
    "    contract_addr = data['ContractAddress'][row]\n",
    "    name = data['ContractName'][row]\n",
    "    url = f'https://api.etherscan.io/api?module=contract&action=getsourcecode&address={contract_addr}&apikey={apikey}'\n",
    "    response = requests.get(url)\n",
    "    response.raise_for_status()\n",
    "    if response.status_code != 204:\n",
    "\n",
    "        try:\n",
    "            result = response.json()['result']\n",
    "            val = result[0].get('SourceCode')\n",
    "            version = result[0].get('CompilerVersion')\n",
    "        except ValueError:\n",
    "            val = \"Value Error\"\n",
    "            version = \"Value Error\"\n",
    "\n",
    "    return name, contract_addr, val, version"
   ],
   "metadata": {
    "collapsed": false,
    "pycharm": {
     "name": "#%%\n"
    }
   }
  },
  {
   "cell_type": "code",
   "execution_count": null,
   "outputs": [],
   "source": [
    "# Function to write data to a csv file\n",
    "def write_to_csv(data, filename):\n",
    "    with open(filename, 'w') as f:\n",
    "        writer = csv.writer(f, delimiter=\",\")\n",
    "        writer.writerow(['ContractName','ContractAddress','Source','CompilerVersion'])\n",
    "        for row in data:\n",
    "            writer.writerows(row)"
   ],
   "metadata": {
    "collapsed": false,
    "pycharm": {
     "name": "#%%\n"
    }
   }
  },
  {
   "cell_type": "code",
   "execution_count": null,
   "outputs": [],
   "source": [
    "# Multi processing to speed up the api calls\n",
    "from multiprocessing import Pool, cpu_count\n",
    "from p_tqdm import p_map\n",
    "def multi_call(func, args):\n",
    "    results = []\n",
    "    with Pool(cpu_count()) as p:\n",
    "        completed = p_map(func, args, **{\"num_cpus\":cpu_count()})\n",
    "    results.append(completed)\n"
   ],
   "metadata": {
    "collapsed": false,
    "pycharm": {
     "name": "#%%\n"
    }
   }
  },
  {
   "cell_type": "code",
   "execution_count": null,
   "outputs": [],
   "source": [
    "# Splitting up the data just so that I don't have to run everything over when an error occurs\n",
    "# Random errors can occur (this is due to some api error or internet connection failure)\n",
    "argument_list = [i for i in range(len(data))]\n",
    "arg_list_1 = argument_list[:1000]\n",
    "arg_list_2 = argument_list[1000:2000]\n",
    "arg_list_3 = argument_list[2000:3000]\n",
    "arg_list_4 = argument_list[3000:4000]\n",
    "arg_list_5 = argument_list[4000:5000]\n",
    "arg_list_6 = argument_list[5000:6000]\n",
    "arg_list_7 = argument_list[6000:7000]\n",
    "arg_list_8 = argument_list[7000:8000]\n",
    "arg_list_9 = argument_list[8000:9000]\n",
    "arg_list_10 = argument_list[9000:10000]\n",
    "arg_list_11= argument_list[10000:11000]\n",
    "arg_list_12 = argument_list[11000:12000]\n",
    "arg_list_13 = argument_list[12000:13000]\n",
    "arg_list_14 = argument_list[13000:14000]\n",
    "arg_list_15 = argument_list[14000:15000]\n",
    "arg_list_16 = argument_list[15000:16000]\n",
    "arg_list_17 = argument_list[16000:17000]\n",
    "arg_list_18 = argument_list[17000:18000]\n",
    "arg_list_19 = argument_list[18000:19000]\n",
    "arg_list_20 = argument_list[19000:20000]\n",
    "arg_list_21= argument_list[20000:21000]\n",
    "arg_list_22= argument_list[21000:22000]\n",
    "arg_list_23= argument_list[22000:23000]\n",
    "arg_list_24= argument_list[23000:24000]\n",
    "arg_list_25= argument_list[24000:25000]\n",
    "arg_list_26= argument_list[25000:]"
   ],
   "metadata": {
    "collapsed": false,
    "pycharm": {
     "name": "#%%\n"
    }
   }
  },
  {
   "cell_type": "code",
   "execution_count": null,
   "outputs": [],
   "source": [
    "# Repeat this for every agr_list and then combine them at the end\n",
    "result1 = multi_call(api_call, arg_list_1)\n",
    "write_to_csv(result1, 'contracts_1.csv')"
   ],
   "metadata": {
    "collapsed": false,
    "pycharm": {
     "name": "#%%\n"
    }
   }
  },
  {
   "cell_type": "markdown",
   "source": [
    "..."
   ],
   "metadata": {
    "collapsed": false,
    "pycharm": {
     "name": "#%% md\n"
    }
   }
  },
  {
   "cell_type": "code",
   "execution_count": null,
   "outputs": [],
   "source": [
    "# Result 6\n",
    "result26 = multi_call(api_call, arg_list_26)\n",
    "write_to_csv(result26, 'contracts_26.csv')"
   ],
   "metadata": {
    "collapsed": false,
    "pycharm": {
     "name": "#%%\n"
    }
   }
  },
  {
   "cell_type": "code",
   "execution_count": null,
   "outputs": [],
   "source": [
    "all_contracts = [i for i in glob.glob('contracts*.{}'.format(extension))]"
   ],
   "metadata": {
    "collapsed": false,
    "pycharm": {
     "name": "#%%\n"
    }
   }
  },
  {
   "cell_type": "code",
   "execution_count": null,
   "outputs": [],
   "source": [
    "if not os.path.exists(\"all_contracts.csv\"):\n",
    "    contract_combo = pd.concat([pd.read_csv(f) for f in all_contracts])\n",
    "    contract_combo.to_csv(\"all_contracts.csv\", index=False, encoding='utf-8-sig')"
   ],
   "metadata": {
    "collapsed": false,
    "pycharm": {
     "name": "#%%\n"
    }
   }
  }
 ],
 "metadata": {
  "kernelspec": {
   "display_name": "Python 3",
   "language": "python",
   "name": "python3"
  },
  "language_info": {
   "codemirror_mode": {
    "name": "ipython",
    "version": 2
   },
   "file_extension": ".py",
   "mimetype": "text/x-python",
   "name": "python",
   "nbconvert_exporter": "python",
   "pygments_lexer": "ipython2",
   "version": "2.7.6"
  }
 },
 "nbformat": 4,
 "nbformat_minor": 0
}