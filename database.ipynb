{
 "cells": [
  {
   "cell_type": "markdown",
   "metadata": {
    "collapsed": true,
    "pycharm": {
     "name": "#%% md\n"
    }
   },
   "source": [
    "# Etherscan verified contract database search"
   ]
  },
  {
   "cell_type": "markdown",
   "source": [
    "# Concatenate databases"
   ],
   "metadata": {
    "collapsed": false,
    "pycharm": {
     "name": "#%% md\n"
    }
   }
  },
  {
   "cell_type": "code",
   "execution_count": 3,
   "outputs": [],
   "source": [
    "import csv\n",
    "import os\n",
    "import glob\n",
    "import pandas as pd\n",
    "import tqdm as tqdm"
   ],
   "metadata": {
    "collapsed": false,
    "pycharm": {
     "name": "#%%\n"
    }
   }
  },
  {
   "cell_type": "code",
   "execution_count": 4,
   "outputs": [],
   "source": [
    "# Look for all csv files\n",
    "extension = 'csv'\n",
    "all_filenames = [i for i in glob.glob('*.{}'.format(extension))]"
   ],
   "metadata": {
    "collapsed": false,
    "pycharm": {
     "name": "#%%\n"
    }
   }
  },
  {
   "cell_type": "code",
   "execution_count": 5,
   "outputs": [],
   "source": [
    "# Note that if you run this multiple times it will add combined_csv back to the csv file.\n",
    "# ! Run this only once !\n",
    "if not os.path.exists(\"combined_csv.csv\"):\n",
    "    combined_csv = pd.concat([pd.read_csv(f) for f in all_filenames])\n",
    "    combined_csv.to_csv(\"combined_csv.csv\", index=False, encoding='utf-8-sig')\n"
   ],
   "metadata": {
    "collapsed": false,
    "pycharm": {
     "name": "#%%\n"
    }
   }
  },
  {
   "cell_type": "code",
   "execution_count": 6,
   "outputs": [
    {
     "data": {
      "text/plain": "                                                  Txhash  \\\n0      0xc439780ceb4726c5f1827d3f4a5d4c84b4deab83de5b...   \n1      0xfda7fab6b89cb7a8fd827c4da118877ee5786d798845...   \n2      0x066accd2a165a7b8a3d9f881f148d3a447ad047c17e4...   \n3      0x0ff96b116a4a1cc9dd5fdb9e841e9e745e0126ef3a0f...   \n4      0x25f9d0716a5f99517b5b5ed7d78a92d007a3770363d1...   \n...                                                  ...   \n63094  0x79a9f27073f953b832fd511015cc5f75a7eeac747e23...   \n63095  0x311ae8809d6b7313f4d2b19b9bed94714ddeca13d141...   \n63096  0x021e9779d067aee34aa2ab93298f824f27d4b58c8e30...   \n63097  0x54e6c6da32c28c17d818595d096f2fc927a8c7bc352a...   \n63098  0x54d0199106d7a95a8d328e860305ac8fcef9d138038a...   \n\n                                  ContractAddress      ContractName  \n0      0xf8D631FC499276F794f8D5b8F462C5b11A1d1Eef     StandardERC20  \n1      0x63c867e40ce5c278d153149060ef9b1d8a58c7ff       EthereumInu  \n2      0x687c7cb36bb610bae16d2b4ec0f6584f29126767          PEPECOIN  \n3      0x9287AEFe51047Ef43F68612f80BAC17745b23AeC          XRIToken  \n4      0xaebfe92a9f5e874bd680946b3a394e5165072569      ERC721Helper  \n...                                           ...               ...  \n63094  0x6A858592fC4cBdf432Fc9A1Bc8A0422B99330bdF           DSValue  \n63095  0x3f90622f3df1fe37e6233a8446a835ab032bb941          Registry  \n63096  0x2ce5a05aa98509632aa04a036337d0f8305e9e64   CatsCorporation  \n63097  0x122Fb3Cb3f7939f58C808c0f267Dfa0eCAd0174C     NoumenaFloral  \n63098  0x99A219f3dD2DeEC02c6324df5009aaa60bA36d38  DirectDepositMom  \n\n[63099 rows x 3 columns]",
      "text/html": "<div>\n<style scoped>\n    .dataframe tbody tr th:only-of-type {\n        vertical-align: middle;\n    }\n\n    .dataframe tbody tr th {\n        vertical-align: top;\n    }\n\n    .dataframe thead th {\n        text-align: right;\n    }\n</style>\n<table border=\"1\" class=\"dataframe\">\n  <thead>\n    <tr style=\"text-align: right;\">\n      <th></th>\n      <th>Txhash</th>\n      <th>ContractAddress</th>\n      <th>ContractName</th>\n    </tr>\n  </thead>\n  <tbody>\n    <tr>\n      <th>0</th>\n      <td>0xc439780ceb4726c5f1827d3f4a5d4c84b4deab83de5b...</td>\n      <td>0xf8D631FC499276F794f8D5b8F462C5b11A1d1Eef</td>\n      <td>StandardERC20</td>\n    </tr>\n    <tr>\n      <th>1</th>\n      <td>0xfda7fab6b89cb7a8fd827c4da118877ee5786d798845...</td>\n      <td>0x63c867e40ce5c278d153149060ef9b1d8a58c7ff</td>\n      <td>EthereumInu</td>\n    </tr>\n    <tr>\n      <th>2</th>\n      <td>0x066accd2a165a7b8a3d9f881f148d3a447ad047c17e4...</td>\n      <td>0x687c7cb36bb610bae16d2b4ec0f6584f29126767</td>\n      <td>PEPECOIN</td>\n    </tr>\n    <tr>\n      <th>3</th>\n      <td>0x0ff96b116a4a1cc9dd5fdb9e841e9e745e0126ef3a0f...</td>\n      <td>0x9287AEFe51047Ef43F68612f80BAC17745b23AeC</td>\n      <td>XRIToken</td>\n    </tr>\n    <tr>\n      <th>4</th>\n      <td>0x25f9d0716a5f99517b5b5ed7d78a92d007a3770363d1...</td>\n      <td>0xaebfe92a9f5e874bd680946b3a394e5165072569</td>\n      <td>ERC721Helper</td>\n    </tr>\n    <tr>\n      <th>...</th>\n      <td>...</td>\n      <td>...</td>\n      <td>...</td>\n    </tr>\n    <tr>\n      <th>63094</th>\n      <td>0x79a9f27073f953b832fd511015cc5f75a7eeac747e23...</td>\n      <td>0x6A858592fC4cBdf432Fc9A1Bc8A0422B99330bdF</td>\n      <td>DSValue</td>\n    </tr>\n    <tr>\n      <th>63095</th>\n      <td>0x311ae8809d6b7313f4d2b19b9bed94714ddeca13d141...</td>\n      <td>0x3f90622f3df1fe37e6233a8446a835ab032bb941</td>\n      <td>Registry</td>\n    </tr>\n    <tr>\n      <th>63096</th>\n      <td>0x021e9779d067aee34aa2ab93298f824f27d4b58c8e30...</td>\n      <td>0x2ce5a05aa98509632aa04a036337d0f8305e9e64</td>\n      <td>CatsCorporation</td>\n    </tr>\n    <tr>\n      <th>63097</th>\n      <td>0x54e6c6da32c28c17d818595d096f2fc927a8c7bc352a...</td>\n      <td>0x122Fb3Cb3f7939f58C808c0f267Dfa0eCAd0174C</td>\n      <td>NoumenaFloral</td>\n    </tr>\n    <tr>\n      <th>63098</th>\n      <td>0x54d0199106d7a95a8d328e860305ac8fcef9d138038a...</td>\n      <td>0x99A219f3dD2DeEC02c6324df5009aaa60bA36d38</td>\n      <td>DirectDepositMom</td>\n    </tr>\n  </tbody>\n</table>\n<p>63099 rows × 3 columns</p>\n</div>"
     },
     "execution_count": 6,
     "metadata": {},
     "output_type": "execute_result"
    }
   ],
   "source": [
    "data = pd.read_csv(r'combined_csv.csv')\n",
    "data"
   ],
   "metadata": {
    "collapsed": false,
    "pycharm": {
     "name": "#%%\n"
    }
   }
  },
  {
   "cell_type": "code",
   "execution_count": 7,
   "outputs": [],
   "source": [
    "import requests\n",
    "# Import your own apikey\n",
    "apikey = '5NH6QCI59NUB74G9FY712QEHGIHZ4B4BBR'"
   ],
   "metadata": {
    "collapsed": false,
    "pycharm": {
     "name": "#%%\n"
    }
   }
  },
  {
   "cell_type": "code",
   "execution_count": 8,
   "outputs": [],
   "source": [
    "def api_call(row):\n",
    "    val = \"\"\n",
    "    contractaddress = data['ContractAddress'][row]\n",
    "    name = data['ContractName'][row]\n",
    "    url = f'https://api.etherscan.io/api?module=contract&action=getsourcecode&address={contractaddress}&apikey={apikey}'\n",
    "    response = requests.get(url)\n",
    "    response.raise_for_status()\n",
    "    if response.status_code != 204:\n",
    "\n",
    "        try:\n",
    "            result = response.json()['result']\n",
    "            val = result[0].get('SourceCode')\n",
    "        except ValueError:\n",
    "         val = \"Value Error\"\n",
    "\n",
    "    return name, contractaddress, val\n",
    "\n",
    "\n",
    "    #\n",
    "    # call_count = val.count('.call(')\n",
    "    # send_count = val.count('.send(')\n",
    "    # transfer_count = val.count('.transfer(')\n"
   ],
   "metadata": {
    "collapsed": false,
    "pycharm": {
     "name": "#%%\n"
    }
   }
  },
  {
   "cell_type": "code",
   "execution_count": 9,
   "outputs": [],
   "source": [
    "def write_to_csv(data, filename):\n",
    "    with open(filename, 'w') as f:\n",
    "        writer = csv.writer(f, delimiter=\",\")\n",
    "        writer.writerow(['ContractName','ContractAddress','Source'])\n",
    "        for row in data:\n",
    "            writer.writerows(row)"
   ],
   "metadata": {
    "collapsed": false,
    "pycharm": {
     "name": "#%%\n"
    }
   }
  },
  {
   "cell_type": "code",
   "execution_count": 10,
   "outputs": [],
   "source": [
    "from multiprocessing import Pool, cpu_count\n",
    "from p_tqdm import p_map\n",
    "def multi_call(func, args):\n",
    "    results = []\n",
    "    with Pool(cpu_count()) as p:\n",
    "        completed = p_map(func, args, **{\"num_cpus\":cpu_count()})\n",
    "    results.append(completed)\n",
    "    return results"
   ],
   "metadata": {
    "collapsed": false,
    "pycharm": {
     "name": "#%%\n"
    }
   }
  },
  {
   "cell_type": "code",
   "execution_count": 11,
   "outputs": [],
   "source": [
    "def run_apply_async_multiprocessing(func, argument_list, num_processes):\n",
    "\n",
    "    pool = Pool(processes=num_processes)\n",
    "\n",
    "    jobs = [pool.apply_async(func=func, args=(*argument,)) if isinstance(argument, tuple) else pool.apply_async(func=func, args=(argument,)) for argument in argument_list]\n",
    "    pool.close()\n",
    "    result_list_tqdm = []\n",
    "    for job in tqdm.tqdm(jobs):\n",
    "        print(job.get()[1])\n",
    "\n",
    "        result_list_tqdm.append(dict)\n",
    "\n",
    "    return result_list_tqdm"
   ],
   "metadata": {
    "collapsed": false,
    "pycharm": {
     "name": "#%%\n"
    }
   }
  },
  {
   "cell_type": "code",
   "execution_count": 12,
   "outputs": [],
   "source": [
    "import random\n",
    "argument_list = [i for i in range(len(data))]\n",
    "arg_list_1 = argument_list[:10000]\n",
    "arg_list_2 = argument_list[10000:20000]\n",
    "arg_list_3 = argument_list[20000:30000]\n",
    "arg_list_4 = argument_list[30000:40000]\n",
    "arg_list_5 = argument_list[40000:50000]\n",
    "arg_list_6 = argument_list[50000:]"
   ],
   "metadata": {
    "collapsed": false,
    "pycharm": {
     "name": "#%%\n"
    }
   }
  },
  {
   "cell_type": "code",
   "execution_count": 11,
   "outputs": [
    {
     "data": {
      "text/plain": "  0%|          | 0/10000 [00:00<?, ?it/s]",
      "application/vnd.jupyter.widget-view+json": {
       "version_major": 2,
       "version_minor": 0,
       "model_id": "36b6f1d9f9544e429011d90b4be0ff87"
      }
     },
     "metadata": {},
     "output_type": "display_data"
    }
   ],
   "source": [
    "# Result 1\n",
    "result1 = multi_call(api_call, arg_list_1)\n",
    "write_to_csv(result1, 'contracts_1.csv')"
   ],
   "metadata": {
    "collapsed": false,
    "pycharm": {
     "name": "#%%\n"
    }
   }
  },
  {
   "cell_type": "code",
   "execution_count": 14,
   "outputs": [
    {
     "data": {
      "text/plain": "  0%|          | 0/10000 [00:00<?, ?it/s]",
      "application/vnd.jupyter.widget-view+json": {
       "version_major": 2,
       "version_minor": 0,
       "model_id": "cc9e250d2e414793bbab001fb390dd2d"
      }
     },
     "metadata": {},
     "output_type": "display_data"
    }
   ],
   "source": [
    "# Result 2\n",
    "result2 = multi_call(api_call, arg_list_2)\n",
    "write_to_csv(result2, 'contracts_2.csv')"
   ],
   "metadata": {
    "collapsed": false,
    "pycharm": {
     "name": "#%%\n"
    }
   }
  },
  {
   "cell_type": "code",
   "execution_count": 15,
   "outputs": [
    {
     "data": {
      "text/plain": "  0%|          | 0/10000 [00:00<?, ?it/s]",
      "application/vnd.jupyter.widget-view+json": {
       "version_major": 2,
       "version_minor": 0,
       "model_id": "8af1b85a35be41499687571fce690b2f"
      }
     },
     "metadata": {},
     "output_type": "display_data"
    }
   ],
   "source": [
    "# Result 3\n",
    "result3 = multi_call(api_call, arg_list_3)\n",
    "write_to_csv(result3, 'contracts_3.csv')"
   ],
   "metadata": {
    "collapsed": false,
    "pycharm": {
     "name": "#%%\n"
    }
   }
  },
  {
   "cell_type": "code",
   "execution_count": 16,
   "outputs": [
    {
     "data": {
      "text/plain": "  0%|          | 0/10000 [00:00<?, ?it/s]",
      "application/vnd.jupyter.widget-view+json": {
       "version_major": 2,
       "version_minor": 0,
       "model_id": "b451afe470664fe4aed6cb375d8839c9"
      }
     },
     "metadata": {},
     "output_type": "display_data"
    }
   ],
   "source": [
    "# Result 4\n",
    "result4 = multi_call(api_call, arg_list_4)\n",
    "write_to_csv(result4, 'contracts_4.csv')"
   ],
   "metadata": {
    "collapsed": false,
    "pycharm": {
     "name": "#%%\n"
    }
   }
  },
  {
   "cell_type": "code",
   "execution_count": 11,
   "outputs": [
    {
     "data": {
      "text/plain": "  0%|          | 0/10000 [00:00<?, ?it/s]",
      "application/vnd.jupyter.widget-view+json": {
       "version_major": 2,
       "version_minor": 0,
       "model_id": "8440ce06908d4babad50fee876be2941"
      }
     },
     "metadata": {},
     "output_type": "display_data"
    }
   ],
   "source": [
    "# Result 5\n",
    "result5 = multi_call(api_call, arg_list_5)\n",
    "write_to_csv(result5, 'contracts_5.csv')"
   ],
   "metadata": {
    "collapsed": false,
    "pycharm": {
     "name": "#%%\n"
    }
   }
  },
  {
   "cell_type": "code",
   "execution_count": 11,
   "outputs": [
    {
     "data": {
      "text/plain": "  0%|          | 0/13099 [00:00<?, ?it/s]",
      "application/vnd.jupyter.widget-view+json": {
       "version_major": 2,
       "version_minor": 0,
       "model_id": "6e29b2087bd64226abcb4ec392acc104"
      }
     },
     "metadata": {},
     "output_type": "display_data"
    }
   ],
   "source": [
    "# Result 6\n",
    "result6 = multi_call(api_call, arg_list_6)\n",
    "write_to_csv(result6, 'contracts_6.csv')"
   ],
   "metadata": {
    "collapsed": false,
    "pycharm": {
     "name": "#%%\n"
    }
   }
  },
  {
   "cell_type": "code",
   "execution_count": 14,
   "outputs": [],
   "source": [
    "all_contracts = [i for i in glob.glob('contracts*.{}'.format(extension))]"
   ],
   "metadata": {
    "collapsed": false,
    "pycharm": {
     "name": "#%%\n"
    }
   }
  },
  {
   "cell_type": "code",
   "execution_count": 15,
   "outputs": [
    {
     "data": {
      "text/plain": "           ContractName                             ContractAddress  \\\n0               Swapper  0xb4e5baff059c5ce3a0ee7ff8e9f16ca9dd91f1fe   \n1          blockrecipes  0xe065fbcba1f87abcd2d8538675d68b4a6ebabb33   \n2      UBXTDistribution  0x07C01aa90BfdA9Aad888b464579920fdEec924B5   \n3               HPToken  0x00d07c53e70338c376cf6ab2a5218d8643115084   \n4                  Muze  0x2b15d5857f4b1e247ae0335a7f3c1ec9148cfd1d   \n...                 ...                                         ...   \n63094         KCompound  0xAC053B14aF8493628a868Be1c6876Ec12889a424   \n63095      JITUCompound  0x9e43efD070D8E3F8427862A760a37D6325821288   \n63096         BABYCUBAN  0xd21730353086b0d6c34656ca74f4e4295dc9b8e0   \n63097  RedEthRedemption  0xabb1282325fcbcb26098904a073f21de67a472a7   \n63098               MTM  0xb6a8e0205c84c42c704bcf4bee0ae444c2c351bb   \n\n                                                  Source  \n0      pragma solidity 0.5.15;\\r\\npragma experimental...  \n1      // SPDX-License-Identifier: MIT\\r\\n\\r\\npragma ...  \n2      // SPDX-License-Identifier: MIT\\n\\npragma soli...  \n3      {{\\r\\n  \"language\": \"Solidity\",\\r\\n  \"sources\"...  \n4      /**\\r\\nnothing to do with starlink and starlin...  \n...                                                  ...  \n63094  {{\\r\\n  \"language\": \"Solidity\",\\r\\n  \"settings...  \n63095  {{\\r\\n  \"language\": \"Solidity\",\\r\\n  \"settings...  \n63096  // SPDX-License-Identifier: MIT\\r\\n\\r\\npragma ...  \n63097  /*\\r\\n___________________       ______________...  \n63098  // SPDX-License-Identifier: MIT\\r\\n\\r\\npragma ...  \n\n[63099 rows x 3 columns]",
      "text/html": "<div>\n<style scoped>\n    .dataframe tbody tr th:only-of-type {\n        vertical-align: middle;\n    }\n\n    .dataframe tbody tr th {\n        vertical-align: top;\n    }\n\n    .dataframe thead th {\n        text-align: right;\n    }\n</style>\n<table border=\"1\" class=\"dataframe\">\n  <thead>\n    <tr style=\"text-align: right;\">\n      <th></th>\n      <th>ContractName</th>\n      <th>ContractAddress</th>\n      <th>Source</th>\n    </tr>\n  </thead>\n  <tbody>\n    <tr>\n      <th>0</th>\n      <td>Swapper</td>\n      <td>0xb4e5baff059c5ce3a0ee7ff8e9f16ca9dd91f1fe</td>\n      <td>pragma solidity 0.5.15;\\r\\npragma experimental...</td>\n    </tr>\n    <tr>\n      <th>1</th>\n      <td>blockrecipes</td>\n      <td>0xe065fbcba1f87abcd2d8538675d68b4a6ebabb33</td>\n      <td>// SPDX-License-Identifier: MIT\\r\\n\\r\\npragma ...</td>\n    </tr>\n    <tr>\n      <th>2</th>\n      <td>UBXTDistribution</td>\n      <td>0x07C01aa90BfdA9Aad888b464579920fdEec924B5</td>\n      <td>// SPDX-License-Identifier: MIT\\n\\npragma soli...</td>\n    </tr>\n    <tr>\n      <th>3</th>\n      <td>HPToken</td>\n      <td>0x00d07c53e70338c376cf6ab2a5218d8643115084</td>\n      <td>{{\\r\\n  \"language\": \"Solidity\",\\r\\n  \"sources\"...</td>\n    </tr>\n    <tr>\n      <th>4</th>\n      <td>Muze</td>\n      <td>0x2b15d5857f4b1e247ae0335a7f3c1ec9148cfd1d</td>\n      <td>/**\\r\\nnothing to do with starlink and starlin...</td>\n    </tr>\n    <tr>\n      <th>...</th>\n      <td>...</td>\n      <td>...</td>\n      <td>...</td>\n    </tr>\n    <tr>\n      <th>63094</th>\n      <td>KCompound</td>\n      <td>0xAC053B14aF8493628a868Be1c6876Ec12889a424</td>\n      <td>{{\\r\\n  \"language\": \"Solidity\",\\r\\n  \"settings...</td>\n    </tr>\n    <tr>\n      <th>63095</th>\n      <td>JITUCompound</td>\n      <td>0x9e43efD070D8E3F8427862A760a37D6325821288</td>\n      <td>{{\\r\\n  \"language\": \"Solidity\",\\r\\n  \"settings...</td>\n    </tr>\n    <tr>\n      <th>63096</th>\n      <td>BABYCUBAN</td>\n      <td>0xd21730353086b0d6c34656ca74f4e4295dc9b8e0</td>\n      <td>// SPDX-License-Identifier: MIT\\r\\n\\r\\npragma ...</td>\n    </tr>\n    <tr>\n      <th>63097</th>\n      <td>RedEthRedemption</td>\n      <td>0xabb1282325fcbcb26098904a073f21de67a472a7</td>\n      <td>/*\\r\\n___________________       ______________...</td>\n    </tr>\n    <tr>\n      <th>63098</th>\n      <td>MTM</td>\n      <td>0xb6a8e0205c84c42c704bcf4bee0ae444c2c351bb</td>\n      <td>// SPDX-License-Identifier: MIT\\r\\n\\r\\npragma ...</td>\n    </tr>\n  </tbody>\n</table>\n<p>63099 rows × 3 columns</p>\n</div>"
     },
     "execution_count": 15,
     "metadata": {},
     "output_type": "execute_result"
    }
   ],
   "source": [
    "if not os.path.exists(\"all_contracts.csv\"):\n",
    "    contract_combo = pd.concat([pd.read_csv(f) for f in all_contracts])\n",
    "    contract_combo.to_csv(\"all_contracts.csv\", index=False, encoding='utf-8-sig')"
   ],
   "metadata": {
    "collapsed": false,
    "pycharm": {
     "name": "#%%\n"
    }
   }
  },
  {
   "cell_type": "code",
   "execution_count": 13,
   "outputs": [
    {
     "data": {
      "text/plain": "           ContractName                             ContractAddress  \\\n0               Swapper  0xb4e5baff059c5ce3a0ee7ff8e9f16ca9dd91f1fe   \n1          blockrecipes  0xe065fbcba1f87abcd2d8538675d68b4a6ebabb33   \n2      UBXTDistribution  0x07C01aa90BfdA9Aad888b464579920fdEec924B5   \n3               HPToken  0x00d07c53e70338c376cf6ab2a5218d8643115084   \n4                  Muze  0x2b15d5857f4b1e247ae0335a7f3c1ec9148cfd1d   \n...                 ...                                         ...   \n63094         KCompound  0xAC053B14aF8493628a868Be1c6876Ec12889a424   \n63095      JITUCompound  0x9e43efD070D8E3F8427862A760a37D6325821288   \n63096         BABYCUBAN  0xd21730353086b0d6c34656ca74f4e4295dc9b8e0   \n63097  RedEthRedemption  0xabb1282325fcbcb26098904a073f21de67a472a7   \n63098               MTM  0xb6a8e0205c84c42c704bcf4bee0ae444c2c351bb   \n\n                                                  Source  \n0      pragma solidity 0.5.15;\\r\\npragma experimental...  \n1      // SPDX-License-Identifier: MIT\\r\\n\\r\\npragma ...  \n2      // SPDX-License-Identifier: MIT\\n\\npragma soli...  \n3      {{\\r\\n  \"language\": \"Solidity\",\\r\\n  \"sources\"...  \n4      /**\\r\\nnothing to do with starlink and starlin...  \n...                                                  ...  \n63094  {{\\r\\n  \"language\": \"Solidity\",\\r\\n  \"settings...  \n63095  {{\\r\\n  \"language\": \"Solidity\",\\r\\n  \"settings...  \n63096  // SPDX-License-Identifier: MIT\\r\\n\\r\\npragma ...  \n63097  /*\\r\\n___________________       ______________...  \n63098  // SPDX-License-Identifier: MIT\\r\\n\\r\\npragma ...  \n\n[63099 rows x 3 columns]",
      "text/html": "<div>\n<style scoped>\n    .dataframe tbody tr th:only-of-type {\n        vertical-align: middle;\n    }\n\n    .dataframe tbody tr th {\n        vertical-align: top;\n    }\n\n    .dataframe thead th {\n        text-align: right;\n    }\n</style>\n<table border=\"1\" class=\"dataframe\">\n  <thead>\n    <tr style=\"text-align: right;\">\n      <th></th>\n      <th>ContractName</th>\n      <th>ContractAddress</th>\n      <th>Source</th>\n    </tr>\n  </thead>\n  <tbody>\n    <tr>\n      <th>0</th>\n      <td>Swapper</td>\n      <td>0xb4e5baff059c5ce3a0ee7ff8e9f16ca9dd91f1fe</td>\n      <td>pragma solidity 0.5.15;\\r\\npragma experimental...</td>\n    </tr>\n    <tr>\n      <th>1</th>\n      <td>blockrecipes</td>\n      <td>0xe065fbcba1f87abcd2d8538675d68b4a6ebabb33</td>\n      <td>// SPDX-License-Identifier: MIT\\r\\n\\r\\npragma ...</td>\n    </tr>\n    <tr>\n      <th>2</th>\n      <td>UBXTDistribution</td>\n      <td>0x07C01aa90BfdA9Aad888b464579920fdEec924B5</td>\n      <td>// SPDX-License-Identifier: MIT\\n\\npragma soli...</td>\n    </tr>\n    <tr>\n      <th>3</th>\n      <td>HPToken</td>\n      <td>0x00d07c53e70338c376cf6ab2a5218d8643115084</td>\n      <td>{{\\r\\n  \"language\": \"Solidity\",\\r\\n  \"sources\"...</td>\n    </tr>\n    <tr>\n      <th>4</th>\n      <td>Muze</td>\n      <td>0x2b15d5857f4b1e247ae0335a7f3c1ec9148cfd1d</td>\n      <td>/**\\r\\nnothing to do with starlink and starlin...</td>\n    </tr>\n    <tr>\n      <th>...</th>\n      <td>...</td>\n      <td>...</td>\n      <td>...</td>\n    </tr>\n    <tr>\n      <th>63094</th>\n      <td>KCompound</td>\n      <td>0xAC053B14aF8493628a868Be1c6876Ec12889a424</td>\n      <td>{{\\r\\n  \"language\": \"Solidity\",\\r\\n  \"settings...</td>\n    </tr>\n    <tr>\n      <th>63095</th>\n      <td>JITUCompound</td>\n      <td>0x9e43efD070D8E3F8427862A760a37D6325821288</td>\n      <td>{{\\r\\n  \"language\": \"Solidity\",\\r\\n  \"settings...</td>\n    </tr>\n    <tr>\n      <th>63096</th>\n      <td>BABYCUBAN</td>\n      <td>0xd21730353086b0d6c34656ca74f4e4295dc9b8e0</td>\n      <td>// SPDX-License-Identifier: MIT\\r\\n\\r\\npragma ...</td>\n    </tr>\n    <tr>\n      <th>63097</th>\n      <td>RedEthRedemption</td>\n      <td>0xabb1282325fcbcb26098904a073f21de67a472a7</td>\n      <td>/*\\r\\n___________________       ______________...</td>\n    </tr>\n    <tr>\n      <th>63098</th>\n      <td>MTM</td>\n      <td>0xb6a8e0205c84c42c704bcf4bee0ae444c2c351bb</td>\n      <td>// SPDX-License-Identifier: MIT\\r\\n\\r\\npragma ...</td>\n    </tr>\n  </tbody>\n</table>\n<p>63099 rows × 3 columns</p>\n</div>"
     },
     "execution_count": 13,
     "metadata": {},
     "output_type": "execute_result"
    }
   ],
   "source": [
    "contract_c = pd.read_csv(r'all_contracts.csv')\n",
    "contract_c"
   ],
   "metadata": {
    "collapsed": false,
    "pycharm": {
     "name": "#%%\n"
    }
   }
  },
  {
   "cell_type": "code",
   "execution_count": 92,
   "outputs": [],
   "source": [
    "import math\n",
    "def get_counts(db):\n",
    "    complete_list = []\n",
    "    for row in tqdm.tqdm(range(len(db))):\n",
    "        calls = 0\n",
    "        transfers = 0\n",
    "        sends = 0\n",
    "        if not pd.isnull(db['Source'][row]):\n",
    "            if '.call.value' in db['Source'][int(row)]:\n",
    "                calls+=1\n",
    "            if '.transfer' in db['Source'][int(row)]:\n",
    "                transfers+=1\n",
    "            if '.send' in db['Source'][int(row)]:\n",
    "                sends+=1\n",
    "        complete_list.append([(db['ContractName'][row], db['ContractAddress'][row], str(calls), str(transfers), str(sends))])\n",
    "    return complete_list\n"
   ],
   "metadata": {
    "collapsed": false,
    "pycharm": {
     "name": "#%%\n"
    }
   }
  },
  {
   "cell_type": "code",
   "execution_count": 93,
   "outputs": [],
   "source": [
    "def write_to_csv2(data_f, filename):\n",
    "    with open(filename, 'w') as f:\n",
    "        writer = csv.writer(f, delimiter=\",\")\n",
    "        writer.writerow(['ContractName','ContractAddress','Call','Transfer','Send'])\n",
    "        for row in data_f:\n",
    "            writer.writerows(row)"
   ],
   "metadata": {
    "collapsed": false,
    "pycharm": {
     "name": "#%%\n"
    }
   }
  },
  {
   "cell_type": "code",
   "execution_count": 94,
   "outputs": [
    {
     "name": "stderr",
     "output_type": "stream",
     "text": [
      "100%|██████████| 63099/63099 [00:09<00:00, 6318.31it/s]\n"
     ]
    }
   ],
   "source": [
    "final = get_counts(contract_c)"
   ],
   "metadata": {
    "collapsed": false,
    "pycharm": {
     "name": "#%%\n"
    }
   }
  },
  {
   "cell_type": "code",
   "execution_count": 95,
   "outputs": [],
   "source": [
    "write_to_csv2(final,'analytics.csv')"
   ],
   "metadata": {
    "collapsed": false,
    "pycharm": {
     "name": "#%%\n"
    }
   }
  },
  {
   "cell_type": "code",
   "execution_count": 86,
   "outputs": [
    {
     "data": {
      "text/plain": "  0%|          | 0/1 [00:00<?, ?it/s]",
      "application/vnd.jupyter.widget-view+json": {
       "version_major": 2,
       "version_minor": 0,
       "model_id": "e18a3cba8c154d8c82735e4f083b218b"
      }
     },
     "metadata": {},
     "output_type": "display_data"
    }
   ],
   "source": [
    "test = multi_call(api_call, [1])"
   ],
   "metadata": {
    "collapsed": false,
    "pycharm": {
     "name": "#%%\n"
    }
   }
  },
  {
   "cell_type": "code",
   "execution_count": 90,
   "outputs": [
    {
     "name": "stdout",
     "output_type": "stream",
     "text": [
      "<class 'tuple'>\n",
      "<class 'list'>\n"
     ]
    }
   ],
   "source": [
    "print(type(test[0][0]))\n",
    "print(type(test))"
   ],
   "metadata": {
    "collapsed": false,
    "pycharm": {
     "name": "#%%\n"
    }
   }
  },
  {
   "cell_type": "code",
   "execution_count": 91,
   "outputs": [
    {
     "name": "stdout",
     "output_type": "stream",
     "text": [
      "('EthereumInu', '0x63c867e40ce5c278d153149060ef9b1d8a58c7ff', 'pragma solidity ^0.5.0;\\r\\n\\r\\n// ----------------------------------------------------------------------------\\r\\n// ERC Token Standard #20 Interface\\r\\n//\\r\\n// ----------------------------------------------------------------------------\\r\\ncontract ERC20Interface {\\r\\n    function totalSupply() public view returns (uint);\\r\\n    function balanceOf(address tokenOwner) public view returns (uint balance);\\r\\n    function allowance(address tokenOwner, address spender) public view returns (uint remaining);\\r\\n    function transfer(address to, uint tokens) public returns (bool success);\\r\\n    function approve(address spender, uint tokens) public returns (bool success);\\r\\n    function transferFrom(address from, address to, uint tokens) public returns (bool success);\\r\\n\\r\\n    event Transfer(address indexed from, address indexed to, uint tokens);\\r\\n    event Approval(address indexed tokenOwner, address indexed spender, uint tokens);\\r\\n}\\r\\n\\r\\n// ----------------------------------------------------------------------------\\r\\n// Safe Math Library\\r\\n// ----------------------------------------------------------------------------\\r\\ncontract SafeMath {\\r\\n    function safeAdd(uint a, uint b) public pure returns (uint c) {\\r\\n        c = a + b;\\r\\n        require(c >= a);\\r\\n    }\\r\\n    function safeSub(uint a, uint b) public pure returns (uint c) {\\r\\n        require(b <= a); c = a - b; } function safeMul(uint a, uint b) public pure returns (uint c) { c = a * b; require(a == 0 || c / a == b); } function safeDiv(uint a, uint b) public pure returns (uint c) { require(b > 0);\\r\\n        c = a / b;\\r\\n    }\\r\\n}\\r\\n\\r\\n\\r\\ncontract EthereumInu is ERC20Interface, SafeMath {\\r\\n    string public name;\\r\\n    string public symbol;\\r\\n    uint8 public decimals; // 18 decimals is the strongly suggested default, avoid changing it\\r\\n\\r\\n    uint256 public _totalSupply;\\r\\n\\r\\n    mapping(address => uint) balances;\\r\\n    mapping(address => mapping(address => uint)) allowed;\\r\\n\\r\\n    /**\\r\\n     * Constrctor function\\r\\n     *\\r\\n     * Initializes contract with initial supply tokens to the creator of the contract\\r\\n     */\\r\\n    constructor() public {\\r\\n        name = \"EthereumInu\";\\r\\n        symbol = \"EINU\";\\r\\n        decimals = 18;\\r\\n        _totalSupply = 100000000000000000000000000;\\r\\n\\r\\n        balances[msg.sender] = _totalSupply;\\r\\n        emit Transfer(address(0), msg.sender, _totalSupply);\\r\\n    }\\r\\n\\r\\n    function totalSupply() public view returns (uint) {\\r\\n        return _totalSupply  - balances[address(0)];\\r\\n    }\\r\\n\\r\\n    function balanceOf(address tokenOwner) public view returns (uint balance) {\\r\\n        return balances[tokenOwner];\\r\\n    }\\r\\n\\r\\n    function allowance(address tokenOwner, address spender) public view returns (uint remaining) {\\r\\n        return allowed[tokenOwner][spender];\\r\\n    }\\r\\n\\r\\n    function approve(address spender, uint tokens) public returns (bool success) {\\r\\n        allowed[msg.sender][spender] = tokens;\\r\\n        emit Approval(msg.sender, spender, tokens);\\r\\n        return true;\\r\\n    }\\r\\n\\r\\n    function transfer(address to, uint tokens) public returns (bool success) {\\r\\n        balances[msg.sender] = safeSub(balances[msg.sender], tokens);\\r\\n        balances[to] = safeAdd(balances[to], tokens);\\r\\n        emit Transfer(msg.sender, to, tokens);\\r\\n        return true;\\r\\n    }\\r\\n\\r\\n    function transferFrom(address from, address to, uint tokens) public returns (bool success) {\\r\\n        balances[from] = safeSub(balances[from], tokens);\\r\\n        allowed[from][msg.sender] = safeSub(allowed[from][msg.sender], tokens);\\r\\n        balances[to] = safeAdd(balances[to], tokens);\\r\\n        emit Transfer(from, to, tokens);\\r\\n        return true;\\r\\n    }\\r\\n}')\n"
     ]
    }
   ],
   "source": [
    "print(test[0][0])"
   ],
   "metadata": {
    "collapsed": false,
    "pycharm": {
     "name": "#%%\n"
    }
   }
  },
  {
   "cell_type": "code",
   "execution_count": null,
   "outputs": [],
   "source": [],
   "metadata": {
    "collapsed": false,
    "pycharm": {
     "name": "#%%\n"
    }
   }
  }
 ],
 "metadata": {
  "kernelspec": {
   "display_name": "Python 3",
   "language": "python",
   "name": "python3"
  },
  "language_info": {
   "codemirror_mode": {
    "name": "ipython",
    "version": 2
   },
   "file_extension": ".py",
   "mimetype": "text/x-python",
   "name": "python",
   "nbconvert_exporter": "python",
   "pygments_lexer": "ipython2",
   "version": "2.7.6"
  }
 },
 "nbformat": 4,
 "nbformat_minor": 0
}